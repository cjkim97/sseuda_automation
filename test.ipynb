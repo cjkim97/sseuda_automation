{
 "cells": [
  {
   "cell_type": "code",
   "execution_count": 1,
   "metadata": {},
   "outputs": [],
   "source": [
    "import zipfile\n",
    "import pandas as pd\n",
    "import csv\n",
    "from io import BytesIO, StringIO\n",
    "import re"
   ]
  },
  {
   "cell_type": "code",
   "execution_count": 2,
   "metadata": {},
   "outputs": [],
   "source": [
    "zp = zipfile.ZipFile('sample/0b126bc7-907c-4afd-92e0-2640512c4cce_Export-38b30ebd-ca26-459f-a13e-149da8f02988.zip')"
   ]
  },
  {
   "cell_type": "code",
   "execution_count": 27,
   "metadata": {},
   "outputs": [],
   "source": [
    "def preprocess_name(name) : \n",
    "    if re.search('\\s', name) : \n",
    "        name = t.split()[-1]+t.split()[0]\n",
    "    elif re.search('\\(', name) : \n",
    "        name = re.findall(r'(?<=\\))[가-힣]{2,}|[가-힣]{2,}(?=\\()', t)\n",
    "    return name\n",
    "\n",
    "def process_csv_file(file_bytes):\n",
    "    csv_data = StringIO(file_bytes.decode('utf-8'))\n",
    "    reader = csv.DictReader(csv_data)\n",
    "    record = pd.DataFrame(reader)\n",
    "\n",
    "    # 작성자 전처리\n",
    "    record['작성자'] = record['작성자'].apply(preprocess_name)\n",
    "\n",
    "    # 날짜 얻기\n",
    "    year = record['작성일자'].apply(lambda x : re.findall('([0-9]+)년',x)[0]).min() # 2024\n",
    "    month = record['작성일자'].apply(lambda x : re.findall('([0-9]+)월',x)[0].zfill(2)).min() #  07 \n",
    "\n",
    "    # 2주차, 4주차 기간 얻기\n",
    "    terms = {\n",
    "        '2주차' : '',\n",
    "        '4주차' : ''\n",
    "    }\n",
    "    for deadline in record[record['작성자']=='']['링크'].values : \n",
    "        dead_date = re.findall('~([0-9]/[0-9]+)', deadline)[0]\n",
    "        dead_date = '.'.join([date.zfill(2) for date in dead_date.split('/')])\n",
    "\n",
    "        if re.search('2주차', deadline) : \n",
    "            dead_date_next = dead_date[:-1] + str(int(dead_date[-1])+1)\n",
    "            terms['2주차'] = f'{year}.{month}.01 ~ {year}.{dead_date}'\n",
    "        elif re.search('4주차', deadline) : \n",
    "            terms['4주차'] = f'{year}.{dead_date_next} ~ {year}.{dead_date}'\n",
    "            pass\n",
    "    \n",
    "    # people 얻기\n",
    "    # 2주차\n",
    "    date_condition1 = record['작성일자'].apply(lambda x : re.findall('([0-9]+)월',x)[0].zfill(2)) == month\n",
    "    date_condition2 = record['작성일자'].apply(lambda x : re.findall('([0-9]+)일',x)[0].zfill(2)) <= terms['2주차'][-2:]\n",
    "    main_condition = record['작성자']!=''\n",
    "    record[date_condition1 & date_condition2 & main_condition]\n",
    "    peoples = []\n",
    "\n",
    "    \n",
    "    return list(reader)"
   ]
  },
  {
   "cell_type": "code",
   "execution_count": 71,
   "metadata": {},
   "outputs": [],
   "source": [
    "date_condition1 = test['작성일자'].apply(lambda x : re.findall('([0-9]+)월',x)[0].zfill(2)) == month\n",
    "date_condition2 = test['작성일자'].apply(lambda x : re.findall('([0-9]+)일',x)[0].zfill(2)) <= '14'\n",
    "main_condition = test['작성자']!=''"
   ]
  },
  {
   "cell_type": "code",
   "execution_count": 101,
   "metadata": {},
   "outputs": [
    {
     "data": {
      "text/html": [
       "<div>\n",
       "<style scoped>\n",
       "    .dataframe tbody tr th:only-of-type {\n",
       "        vertical-align: middle;\n",
       "    }\n",
       "\n",
       "    .dataframe tbody tr th {\n",
       "        vertical-align: top;\n",
       "    }\n",
       "\n",
       "    .dataframe thead th {\n",
       "        text-align: right;\n",
       "    }\n",
       "</style>\n",
       "<table border=\"1\" class=\"dataframe\">\n",
       "  <thead>\n",
       "    <tr style=\"text-align: right;\">\n",
       "      <th></th>\n",
       "      <th>﻿제목(타이틀)</th>\n",
       "      <th>작성자</th>\n",
       "      <th>링크</th>\n",
       "      <th>주제</th>\n",
       "      <th>작성일자</th>\n",
       "      <th>작성자_자동생성</th>\n",
       "      <th>데드라인(마감기한)</th>\n",
       "      <th>지각/결석</th>\n",
       "      <th>좋아요!!</th>\n",
       "    </tr>\n",
       "  </thead>\n",
       "  <tbody>\n",
       "    <tr>\n",
       "      <th>4</th>\n",
       "      <td>[영국] 런던 카페 추천</td>\n",
       "      <td>희진 임</td>\n",
       "      <td>https://heejins.tistory.com/m/140</td>\n",
       "      <td>여행, 후기</td>\n",
       "      <td>2024년 7월 14일 오후 11:37</td>\n",
       "      <td>희진 임</td>\n",
       "      <td></td>\n",
       "      <td></td>\n",
       "      <td></td>\n",
       "    </tr>\n",
       "    <tr>\n",
       "      <th>5</th>\n",
       "      <td>[랭체인/LLM] 랭체인, 이래서 쓰는 건가? 중급편</td>\n",
       "      <td>김채정(우그)</td>\n",
       "      <td>https://blog.naver.com/nuang0530/223512629439</td>\n",
       "      <td>IT/과학정보, Python</td>\n",
       "      <td>2024년 7월 14일 오후 10:29</td>\n",
       "      <td>김채정(우그)</td>\n",
       "      <td></td>\n",
       "      <td></td>\n",
       "      <td>김지은</td>\n",
       "    </tr>\n",
       "    <tr>\n",
       "      <th>6</th>\n",
       "      <td>이직 후기</td>\n",
       "      <td>하림 임</td>\n",
       "      <td>https://halimx2.tistory.com/12</td>\n",
       "      <td>후기</td>\n",
       "      <td>2024년 7월 14일 오후 6:00</td>\n",
       "      <td>하림 임</td>\n",
       "      <td></td>\n",
       "      <td></td>\n",
       "      <td>김채정(우그), 정호영, 염민혁(염), 장석환, 최건우, 배수현(데이지)</td>\n",
       "    </tr>\n",
       "    <tr>\n",
       "      <th>7</th>\n",
       "      <td>rerank 수행하기</td>\n",
       "      <td>김지은</td>\n",
       "      <td>https://abluesnake.tistory.com/190</td>\n",
       "      <td>Python</td>\n",
       "      <td>2024년 7월 14일 오전 10:26</td>\n",
       "      <td>김지은</td>\n",
       "      <td></td>\n",
       "      <td></td>\n",
       "      <td>배수현(데이지), 염민혁(염), 장석환, 희진 임, 최건우</td>\n",
       "    </tr>\n",
       "    <tr>\n",
       "      <th>8</th>\n",
       "      <td>티스토리 스킨 변경하기</td>\n",
       "      <td>배수현(데이지)</td>\n",
       "      <td>https://sosoh.tistory.com/10</td>\n",
       "      <td></td>\n",
       "      <td>2024년 7월 10일 오후 2:40</td>\n",
       "      <td>배수현(데이지)</td>\n",
       "      <td></td>\n",
       "      <td></td>\n",
       "      <td>정호영</td>\n",
       "    </tr>\n",
       "  </tbody>\n",
       "</table>\n",
       "</div>"
      ],
      "text/plain": [
       "                        ﻿제목(타이틀)       작성자  \\\n",
       "4                  [영국] 런던 카페 추천      희진 임   \n",
       "5  [랭체인/LLM] 랭체인, 이래서 쓰는 건가? 중급편   김채정(우그)   \n",
       "6                          이직 후기      하림 임   \n",
       "7                    rerank 수행하기       김지은   \n",
       "8                   티스토리 스킨 변경하기  배수현(데이지)   \n",
       "\n",
       "                                              링크               주제  \\\n",
       "4              https://heejins.tistory.com/m/140           여행, 후기   \n",
       "5  https://blog.naver.com/nuang0530/223512629439  IT/과학정보, Python   \n",
       "6                 https://halimx2.tistory.com/12               후기   \n",
       "7             https://abluesnake.tistory.com/190           Python   \n",
       "8                   https://sosoh.tistory.com/10                    \n",
       "\n",
       "                    작성일자  작성자_자동생성 데드라인(마감기한) 지각/결석  \\\n",
       "4  2024년 7월 14일 오후 11:37      희진 임                    \n",
       "5  2024년 7월 14일 오후 10:29   김채정(우그)                    \n",
       "6   2024년 7월 14일 오후 6:00      하림 임                    \n",
       "7  2024년 7월 14일 오전 10:26       김지은                    \n",
       "8   2024년 7월 10일 오후 2:40  배수현(데이지)                    \n",
       "\n",
       "                                      좋아요!!  \n",
       "4                                            \n",
       "5                                       김지은  \n",
       "6  김채정(우그), 정호영, 염민혁(염), 장석환, 최건우, 배수현(데이지)  \n",
       "7          배수현(데이지), 염민혁(염), 장석환, 희진 임, 최건우  \n",
       "8                                       정호영  "
      ]
     },
     "execution_count": 101,
     "metadata": {},
     "output_type": "execute_result"
    }
   ],
   "source": [
    "test[date_condition1 & date_condition2 & main_condition]"
   ]
  },
  {
   "cell_type": "code",
   "execution_count": 100,
   "metadata": {},
   "outputs": [
    {
     "name": "stdout",
     "output_type": "stream",
     "text": [
      "['김다혜']\n"
     ]
    }
   ],
   "source": [
    "t = '김다혜(데이지부롱부롱)'\n",
    "if re.search('\\s', t) : \n",
    "    name = t.split()[-1]+t.split()[0]\n",
    "elif re.search('\\(', t) : \n",
    "    name = re.findall(r'(?<=\\))[가-힣]{2,}|[가-힣]{2,}(?=\\()', t)\n",
    "print(name)"
   ]
  },
  {
   "cell_type": "code",
   "execution_count": 56,
   "metadata": {},
   "outputs": [],
   "source": [
    "deadlines = []\n",
    "for deadline in test[test['작성자']=='']['링크'].values : \n",
    "    dead_date = re.findall('~([0-9]/[0-9]+)', deadline)[0]\n",
    "    dead_date = '.'.join([date.zfill(2) for date in dead_date.split('/')])\n",
    "    \n",
    "    # 2주차, 4주차 기간 출력\n",
    "    if re.search('2주차', deadline) : \n",
    "        dead_date_next = dead_date[:-1] + str(int(dead_date[-1])+1)\n",
    "        deadlines.append(f'{year}.{month}.01 ~ {year}.{dead_date}')\n",
    "    elif re.search('4주차', deadline) : \n",
    "        deadlines.append(f'{year}.{dead_date_next} ~ {year}.{dead_date}')\n",
    "        pass\n"
   ]
  },
  {
   "cell_type": "code",
   "execution_count": 57,
   "metadata": {},
   "outputs": [
    {
     "data": {
      "text/plain": [
       "['2024.07.15 ~ 2024.07.31', '2024.07.01 ~ 2024.07.14']"
      ]
     },
     "execution_count": 57,
     "metadata": {},
     "output_type": "execute_result"
    }
   ],
   "source": [
    "deadlines"
   ]
  },
  {
   "cell_type": "code",
   "execution_count": null,
   "metadata": {},
   "outputs": [],
   "source": [
    "month = ''\n",
    "    times = ''\n",
    "    term = ''\n",
    "    people = ''\n",
    "    activityExpense = ''\n",
    "    notion_link = ''\n",
    "    img = ''"
   ]
  },
  {
   "cell_type": "code",
   "execution_count": 26,
   "metadata": {},
   "outputs": [
    {
     "name": "stdout",
     "output_type": "stream",
     "text": [
      "2024\n",
      "07\n"
     ]
    }
   ],
   "source": [
    "year = test['작성일자'].apply(lambda x : re.findall('([0-9]+)년',x)[0]).min()\n",
    "month = test['작성일자'].apply(lambda x : re.findall('([0-9]+)월',x)[0].zfill(2)).min()\n",
    "print(year)\n",
    "print(month)"
   ]
  },
  {
   "cell_type": "code",
   "execution_count": null,
   "metadata": {},
   "outputs": [],
   "source": []
  }
 ],
 "metadata": {
  "kernelspec": {
   "display_name": "sseuda",
   "language": "python",
   "name": "python3"
  },
  "language_info": {
   "codemirror_mode": {
    "name": "ipython",
    "version": 3
   },
   "file_extension": ".py",
   "mimetype": "text/x-python",
   "name": "python",
   "nbconvert_exporter": "python",
   "pygments_lexer": "ipython3",
   "version": "3.9.12"
  }
 },
 "nbformat": 4,
 "nbformat_minor": 2
}
